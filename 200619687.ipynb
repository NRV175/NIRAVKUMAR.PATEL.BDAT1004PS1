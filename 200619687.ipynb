{
 "cells": [
  {
   "cell_type": "code",
   "execution_count": 1,
   "id": "678cbb96-430e-4744-8964-bdb1fb570658",
   "metadata": {},
   "outputs": [],
   "source": [
    "# Que-1: What data type is each of the following (evaluate where necessary)?\n",
    "#  Ans: \n",
    "# 5: int\n",
    "# 5.0: float\n",
    "# 5 > 1: bool \n",
    "# '5': str\n",
    "# 5 * 2: int \n",
    "# '5' * 2: str\n",
    "# '5' + '2': str\n",
    "# 5 / 2: float \n",
    "# 5 % 2: int \n",
    "# {5, 2, 1}: set\n",
    "# 5 == 3: bool \n",
    "# Pi (the number): float "
   ]
  },
  {
   "cell_type": "code",
   "execution_count": 2,
   "id": "0d9ea3c0-a840-48c6-abbd-03d1542fd5f4",
   "metadata": {},
   "outputs": [],
   "source": [
    "# Que-2: Write (and evaluate) python expressions that answer these questions:\n",
    "#a. How many letters are there in 'Supercalifragilisticexpialidocious'?\n",
    "#b. Does 'Supercalifragilisticexpialidocious' contain 'ice' as a substring?\n",
    "#c. Which of the following words is the longest:Supercalifragilisticexpialidocious, Honorificabilitudinitatibus, or Bababadalgharaghtakamminarronnkonn?\n",
    "#d. Which composer comes first in the dictionary: 'Berlioz', 'Borodin', 'Brian','Bartok', 'Bellini', 'Buxtehude', 'Bernstein'. Which one comes last?\n"
   ]
  },
  {
   "cell_type": "code",
   "execution_count": 3,
   "id": "85b64359-1aed-47c9-8984-9a945ef967fb",
   "metadata": {},
   "outputs": [
    {
     "data": {
      "text/plain": [
       "34"
      ]
     },
     "execution_count": 3,
     "metadata": {},
     "output_type": "execute_result"
    }
   ],
   "source": [
    "# Ans a) \n",
    "len('Supercalifragilisticexpialidocious')"
   ]
  },
  {
   "cell_type": "code",
   "execution_count": 4,
   "id": "baf67e5d-f19d-40e3-8cc2-298128e68768",
   "metadata": {},
   "outputs": [
    {
     "data": {
      "text/plain": [
       "True"
      ]
     },
     "execution_count": 4,
     "metadata": {},
     "output_type": "execute_result"
    }
   ],
   "source": [
    "# Ans b)\n",
    "'ice' in 'Supercalifragilisticexpialidocious'\n"
   ]
  },
  {
   "cell_type": "code",
   "execution_count": 5,
   "id": "62ebad3d-835f-4d12-ba2f-2ab7251d3c48",
   "metadata": {},
   "outputs": [
    {
     "data": {
      "text/plain": [
       "'Supercalifragilisticexpialidocious'"
      ]
     },
     "execution_count": 5,
     "metadata": {},
     "output_type": "execute_result"
    }
   ],
   "source": [
    "# Ans c)\n",
    "words = ['Supercalifragilisticexpialidocious', 'Honorificabilitudinitatibus', 'Bababadalgharaghtakamminarronnkonn']\n",
    "longest_word = max(words, key=len)\n",
    "longest_word\n"
   ]
  },
  {
   "cell_type": "code",
   "execution_count": 6,
   "id": "19fee048-566e-4b53-a3e6-76dadc659c78",
   "metadata": {},
   "outputs": [
    {
     "data": {
      "text/plain": [
       "('Bartok', 'Buxtehude')"
      ]
     },
     "execution_count": 6,
     "metadata": {},
     "output_type": "execute_result"
    }
   ],
   "source": [
    "# Ans d)\n",
    "composers = ['Berlioz', 'Borodin', 'Brian', 'Bartok', 'Bellini', 'Buxtehude', 'Bernstein']\n",
    "first_composer = min(composers)\n",
    "last_composer = max(composers)\n",
    "first_composer, last_composer"
   ]
  },
  {
   "cell_type": "code",
   "execution_count": 11,
   "id": "992a4be8-1938-4011-9c3c-a0225c95618b",
   "metadata": {},
   "outputs": [
    {
     "name": "stdout",
     "output_type": "stream",
     "text": [
      "1.7320508075688772\n"
     ]
    }
   ],
   "source": [
    "#Que-3: Implement function triangleArea(a,b,c) that takes as input the lengths of the 3 sides of a triangle and returns the area of the triangle. By Heron's formula, the area of a triangle with side lengths a, b, and c iss(s - a)(s - b)(s - c) , wheres = (a + b + c)/2\n",
    "#.\n",
    "# >>> triangleArea(2,2,2)\n",
    "# 1.7320508075688772\n",
    "\n",
    "#Ans-3)\n",
    "def triangleArea(a, b, c):\n",
    "    s = (a + b + c) / 2\n",
    "    \n",
    "    area = (s * (s - a) * (s - b) * (s - c)) ** 0.5\n",
    "    return area\n",
    "print(triangleArea(2, 2, 2))\n"
   ]
  },
  {
   "cell_type": "code",
   "execution_count": 47,
   "id": "293497a1-b8b3-4207-815a-2fb21e29a947",
   "metadata": {},
   "outputs": [
    {
     "name": "stdin",
     "output_type": "stream",
     "text": [
      "Input the number of elements to be stored in the array:  5\n",
      "element - 0 :  25\n",
      "element - 1 :  47\n",
      "element - 2 :  42\n",
      "element - 3 :  56\n",
      "element - 4 :  32\n"
     ]
    },
    {
     "name": "stdout",
     "output_type": "stream",
     "text": [
      "The Even elements are:\n",
      "42 56 32\n",
      "The Odd elements are:\n",
      "25 47\n"
     ]
    }
   ],
   "source": [
    "#Que-4: Write a program in python to separate odd and even integers in separate arrays. Go to the editor\n",
    "#Test Data :\n",
    "#Input the number of elements to be stored in the array :5\n",
    "#Input 5 elements in the array :\n",
    "#element - 0 : 25\n",
    "#element - 1 : 47\n",
    "#element - 2 : 42\n",
    "#element - 3 : 56\n",
    "#element - 4 : 32\n",
    "#Expected Output:\n",
    "#The Even elements are:\n",
    "#42 56 32\n",
    "#The Odd elements are :\n",
    "#25 47\n",
    "\n",
    "#Ans 4)\n",
    "\n",
    "def separate_odd_even():\n",
    "   \n",
    "    n = int(input(\"Input the number of elements to be stored in the array: \"))\n",
    "    \n",
    "    odd_numbers = []\n",
    "    even_numbers = []\n",
    "    \n",
    "    for i in range(n):\n",
    "        element = int(input(f\"element - {i} : \"))\n",
    "        if element % 2 == 0: even_numbers.append(element)\n",
    "        else: odd_numbers.append(element)\n",
    "    \n",
    "    print(\"The Even elements are:\")\n",
    "    print(\" \".join(map(str, even_numbers)))\n",
    "    \n",
    "    print(\"The Odd elements are:\")\n",
    "    print(\" \".join(map(str, odd_numbers)))\n",
    "\n",
    "\n",
    "\n",
    "separate_odd_even()\n",
    "\n",
    "\n"
   ]
  },
  {
   "cell_type": "code",
   "execution_count": 35,
   "id": "87926b02-5ccf-4d81-af09-a510f2976c41",
   "metadata": {},
   "outputs": [],
   "source": [
    "#Que-5) a. Write a function inside(x,y,x1,y1,x2,y2) that returns True or False depending on whether the point (x,y) lies in the rectangle with lower left corner (x1,y1) and upper right corner (x2,y2).\n",
    "#>>> inside(1,1,0,0,2,3)\n",
    "#True\n",
    "#>>> inside(-1,-1,0,0,2,3)\n",
    "#False\n",
    "# b). Use function inside() from part a. to write an expression that tests whether the point (1,1) lies in both of the following rectangles: one with lower left corner (0.3, 0.5) and upper right corner (1.1, 0.7) and the other with lower left corner (0.5, 0.2) and upper right corner (1.1, 2)."
   ]
  },
  {
   "cell_type": "code",
   "execution_count": 15,
   "id": "aa1dc77c-71c3-4ed9-9f1e-46ef75718c5e",
   "metadata": {},
   "outputs": [
    {
     "name": "stdout",
     "output_type": "stream",
     "text": [
      "True\n",
      "False\n"
     ]
    }
   ],
   "source": [
    "#Ans a) \n",
    "def inside(x, y, x1, y1, x2, y2):\n",
    "    return x1 < x < x2 and y1 < y < y2\n",
    "\n",
    "print(inside(1, 1, 0, 0, 2, 3))  \n",
    "print(inside(-1, -1, 0, 0, 2, 3)) "
   ]
  },
  {
   "cell_type": "code",
   "execution_count": 19,
   "id": "00e6c9a9-968b-424d-88b8-aea5480bec40",
   "metadata": {},
   "outputs": [
    {
     "name": "stdout",
     "output_type": "stream",
     "text": [
      "Point (1, 1) inside rectangle 1: False\n",
      "Point (1, 1) inside rectangle 2: True\n"
     ]
    }
   ],
   "source": [
    "#Ans b)\n",
    "point = (1, 1)\n",
    "\n",
    "rect1 = (0.3, 0.5, 1.1, 0.7)\n",
    "rect2 = (0.5, 0.2, 1.1, 2)\n",
    "\n",
    "is_in_rect1 = inside(point[0], point[1], *rect1)\n",
    "is_in_rect2 = inside(point[0], point[1], *rect2)\n",
    "\n",
    "# Output the results\n",
    "print(f\"Point {point} inside rectangle 1: {is_in_rect1}\")  \n",
    "print(f\"Point {point} inside rectangle 2: {is_in_rect2}\") \n",
    "\n"
   ]
  },
  {
   "cell_type": "code",
   "execution_count": 53,
   "id": "7d107a84-6257-43fe-967e-59f3561a3982",
   "metadata": {},
   "outputs": [
    {
     "name": "stdout",
     "output_type": "stream",
     "text": [
      "appyhay\n",
      "enterway\n"
     ]
    }
   ],
   "source": [
    "#Que-6) You can turn a word into pig-Latin using the following two rules (simplified):\n",
    "#• If the word starts with a consonant, move that letter to the end and append 'ay'. For example, 'happy' becomes 'appyhay' and 'pencil' becomes 'encilpay'.\n",
    "#• If the word starts with a vowel, simply append 'way' to the end of the word.For example, 'enter' becomes 'enterway' and 'other' becomes 'otherway' . For our purposes, there are 5 vowels: a, e, i, o, u (so we count y as a consonant).\n",
    "#Write a function pig() that takes a word (i.e., a string) as input and returns its pig-Latin form. Your function should still work if the input word contains upper case characters. Your output should always be lower case however.\n",
    "#>>> pig('happy')\n",
    "#'appyhay'\n",
    "#>>> pig('Enter')\n",
    "#'enterway'\n",
    "\n",
    "#Ans-6)\n",
    "\n",
    "def pig(word):\n",
    "    word = word.lower()\n",
    "    \n",
    "    if word[0] in 'aeiou':\n",
    "       return word + 'way'\n",
    "    else:\n",
    "       \n",
    "        return word[1:] + word[0] + 'ay'\n",
    "\n",
    "print(pig('happy'))  \n",
    "print(pig('Enter'))  \n",
    "\n"
   ]
  },
  {
   "cell_type": "code",
   "execution_count": 60,
   "id": "6cdfe5c8-0f13-4a52-abc9-cc9b119c3b08",
   "metadata": {},
   "outputs": [
    {
     "name": "stdout",
     "output_type": "stream",
     "text": [
      "There are 15 patients of blood type A.\n",
      "There is one patient of blood type B.\n",
      "There are 13 patients of blood type AB.\n",
      "There are 15 patients of blood type O.\n",
      "There are no patients of blood type OO.\n"
     ]
    }
   ],
   "source": [
    "#Que-7) File bloodtype1.txt records blood-types of patients (A, B, AB, O or OO) at a clinic.\n",
    "#Write a function bldcount() that reads the file with name name and reports (i.e., prints) how many patients there are in each bloodtype.\n",
    "#>>> bldcount('bloodtype.txt')\n",
    "#There are 10 patients of blood type A.\n",
    "#There is one patient of blood type B.\n",
    "#There are 10 patients of blood type AB.\n",
    "#There are 12 patients of blood type O.\n",
    "#There are no patients of blood type OO.\n",
    "\n",
    "#Ans-7)\n",
    "\n",
    "def bldcount(bloodtype1):\n",
    "    blood_types = {\n",
    "        'A': 0,\n",
    "        'B': 0,\n",
    "        'AB': 0,\n",
    "        'O': 0,\n",
    "        'OO': 0\n",
    "    }\n",
    "\n",
    "    with open(bloodtype1, 'r') as file:\n",
    "    \n",
    "        data = file.read().strip().split()\n",
    "    \n",
    "    \n",
    "    for blood in data:\n",
    "        if blood in blood_types:\n",
    "            blood_types[blood] += 1\n",
    "    \n",
    "   \n",
    "    for blood, count in blood_types.items():\n",
    "        if count == 0:\n",
    "            print(f\"There are no patients of blood type {blood}.\")\n",
    "        elif count == 1:\n",
    "            print(f\"There is one patient of blood type {blood}.\")\n",
    "        else:\n",
    "            print(f\"There are {count} patients of blood type {blood}.\")\n",
    "\n",
    "bldcount('bloodtype1.txt')\n",
    "\n",
    "\n",
    "\n",
    "\n",
    "\n",
    "\n",
    "\n",
    "\n",
    "\n",
    "\n"
   ]
  },
  {
   "cell_type": "code",
   "execution_count": 52,
   "id": "4794396c-7358-4f1b-b893-625f325ec130",
   "metadata": {},
   "outputs": [
    {
     "name": "stdout",
     "output_type": "stream",
     "text": [
      "122.96544\n",
      "1.241401\n"
     ]
    }
   ],
   "source": [
    "#Que-8) Write a function curconv() that takes as input:\n",
    "#1. a currency represented using a string (e.g., 'JPY' for the Japanese Yen or 'EUR' for the Euro)\n",
    "#2. an amount and then converts and returns the amount in US dollars.\n",
    "#>>> curconv('EUR', 100)\n",
    "#122.96544\n",
    "#>>> curconv('JPY', 100)\n",
    "#1.241401\n",
    "#The currency rates you will need are stored in file currencies.txt:\n",
    "#AUD 1.0345157 Australian Dollar\n",
    "#CHF 1.0237414 Swiss Franc\n",
    "#CNY 0.1550176 Chinese Yuan\n",
    "#DKK 0.1651442 Danish Krone\n",
    "#EUR 1.2296544 Euro\n",
    "#GBP 1.5550989 British Pound\n",
    "#HKD 0.1270207 Hong Kong Dollar\n",
    "#INR 0.0177643 Indian Rupee\n",
    "#JPY 0.01241401 Japanese Yen\n",
    "#MXN 0.0751848 Mexican Peso\n",
    "#MYR 0.3145411 Malaysian Ringgit\n",
    "#NOK 0.1677063 Norwegian Krone\n",
    "#NZD 0.8003591 New Zealand Dollar\n",
    "#PHP 0.0233234 Philippine Peso\n",
    "#SEK 0.148269 Swedish Krona\n",
    "#SGD 0.788871 Singapore Dollar\n",
    "#THB 0.0313789 Thai Baht    \n",
    "\n",
    "#Ans-8)\n",
    "\n",
    "def curconv(currency, amount):\n",
    "    rates = {}\n",
    "\n",
    "    with open('currencies.txt', 'r') as file:\n",
    "        for line in file:\n",
    "            parts = line.split()\n",
    "            if len(parts) >= 2:  \n",
    "                code = parts[0]  \n",
    "                rate = float(parts[1])  \n",
    "                rates[code] = rate\n",
    "\n",
    "    if currency in rates:\n",
    "        return amount * rates[currency]\n",
    "    else:\n",
    "        raise ValueError(\"Currency not found.\")\n",
    "\n",
    "print(curconv('EUR', 100))  \n",
    "print(curconv('JPY', 100)) \n",
    "\n",
    "\n",
    "\n"
   ]
  },
  {
   "cell_type": "code",
   "execution_count": null,
   "id": "a69a0080-27d3-4eaa-acbd-9ea1224104fb",
   "metadata": {},
   "outputs": [],
   "source": [
    "#Que-9) Each of the following will cause an exception (an error). Identify what type of exception each will cause. \n",
    "#a)Trying to add incompatible variables, as in adding 6 + ‘a’\n",
    "#b)Referring to the 12th item of a list that has only 10 items\n",
    "#c)Using a value that is out of range for a function’s input, such as calling math.sqrt(-1.0)\n",
    "#d)Using an undeclared variable, such as print(x) when x has not been defined\n",
    "#e)Trying to open a file that does not exist, such as mistyping the file name or looking in the wrong directory."
   ]
  },
  {
   "cell_type": "code",
   "execution_count": 5,
   "id": "a1594927-01e4-4012-ad73-4098fcaf5b05",
   "metadata": {},
   "outputs": [
    {
     "ename": "TypeError",
     "evalue": "unsupported operand type(s) for +: 'int' and 'str'",
     "output_type": "error",
     "traceback": [
      "\u001b[1;31m---------------------------------------------------------------------------\u001b[0m",
      "\u001b[1;31mTypeError\u001b[0m                                 Traceback (most recent call last)",
      "Cell \u001b[1;32mIn[5], line 2\u001b[0m\n\u001b[0;32m      1\u001b[0m \u001b[38;5;66;03m#Ans-a) \u001b[39;00m\n\u001b[1;32m----> 2\u001b[0m \u001b[38;5;241m6\u001b[39m \u001b[38;5;241m+\u001b[39m \u001b[38;5;124m'\u001b[39m\u001b[38;5;124ma\u001b[39m\u001b[38;5;124m'\u001b[39m\n",
      "\u001b[1;31mTypeError\u001b[0m: unsupported operand type(s) for +: 'int' and 'str'"
     ]
    }
   ],
   "source": [
    "#Ans-a) \n",
    "6 + 'a'\n",
    "\n",
    "\n"
   ]
  },
  {
   "cell_type": "code",
   "execution_count": 13,
   "id": "138e8a36-d3cf-4111-bf02-a0b99caed9fc",
   "metadata": {},
   "outputs": [
    {
     "ename": "IndentationError",
     "evalue": "unexpected indent (182488679.py, line 3)",
     "output_type": "error",
     "traceback": [
      "\u001b[1;36m  Cell \u001b[1;32mIn[13], line 3\u001b[1;36m\u001b[0m\n\u001b[1;33m    item = my_list[11]\u001b[0m\n\u001b[1;37m    ^\u001b[0m\n\u001b[1;31mIndentationError\u001b[0m\u001b[1;31m:\u001b[0m unexpected indent\n"
     ]
    }
   ],
   "source": [
    "#Ans-b)\n",
    "my_list = [1, 2, 3, 4, 5, 6, 7, 8, 9, 10]\n",
    " item = my_list[11]\n",
    "    "
   ]
  },
  {
   "cell_type": "code",
   "execution_count": 19,
   "id": "b224fd30-4dbb-479d-a15a-2603ccc9aaef",
   "metadata": {},
   "outputs": [
    {
     "ename": "IndentationError",
     "evalue": "unexpected indent (2049275805.py, line 3)",
     "output_type": "error",
     "traceback": [
      "\u001b[1;36m  Cell \u001b[1;32mIn[19], line 3\u001b[1;36m\u001b[0m\n\u001b[1;33m    math.sqrt(-1.0)\u001b[0m\n\u001b[1;37m    ^\u001b[0m\n\u001b[1;31mIndentationError\u001b[0m\u001b[1;31m:\u001b[0m unexpected indent\n"
     ]
    }
   ],
   "source": [
    "#Ans-c)\n",
    "import math\n",
    "    math.sqrt(-1.0)"
   ]
  },
  {
   "cell_type": "code",
   "execution_count": 21,
   "id": "1e6337d2-f848-4a1d-9def-6aad3e524ea1",
   "metadata": {},
   "outputs": [
    {
     "ename": "IndentationError",
     "evalue": "unexpected indent (3171104425.py, line 2)",
     "output_type": "error",
     "traceback": [
      "\u001b[1;36m  Cell \u001b[1;32mIn[21], line 2\u001b[1;36m\u001b[0m\n\u001b[1;33m    print(x)\u001b[0m\n\u001b[1;37m    ^\u001b[0m\n\u001b[1;31mIndentationError\u001b[0m\u001b[1;31m:\u001b[0m unexpected indent\n"
     ]
    }
   ],
   "source": [
    "#Ans-d)\n",
    " print(x)\n"
   ]
  },
  {
   "cell_type": "code",
   "execution_count": 27,
   "id": "852f0e4d-a49c-4b55-a7de-13a5d298cb6f",
   "metadata": {},
   "outputs": [
    {
     "ename": "SyntaxError",
     "evalue": "invalid syntax (87490007.py, line 3)",
     "output_type": "error",
     "traceback": [
      "\u001b[1;36m  Cell \u001b[1;32mIn[27], line 3\u001b[1;36m\u001b[0m\n\u001b[1;33m    open('non_exist_file.txt', 'r') as file:\u001b[0m\n\u001b[1;37m                                    ^\u001b[0m\n\u001b[1;31mSyntaxError\u001b[0m\u001b[1;31m:\u001b[0m invalid syntax\n"
     ]
    }
   ],
   "source": [
    "#Ans-e)\n",
    "\n",
    "open('non_exist_file.txt', 'r') as file:\n",
    "        content = file.read()"
   ]
  },
  {
   "cell_type": "code",
   "execution_count": 42,
   "id": "f648b4ef-fc58-4f90-86fc-76780316462f",
   "metadata": {},
   "outputs": [
    {
     "name": "stdout",
     "output_type": "stream",
     "text": [
      "[1, 1, 0, 0, 3, 1, 2, 1, 2, 0, 0, 0, 1, 2, 4, 0, 0, 2, 2, 5, 0, 0, 1, 0, 1, 0]\n",
      "[1, 0, 0, 0, 1, 0, 0, 0, 0, 0, 0, 1, 0, 0, 0, 2, 0, 0, 0, 0, 0, 0, 0, 0, 0, 0]\n"
     ]
    }
   ],
   "source": [
    "#Que-10) Encryption is the process of hiding the meaning of a text by substituting letters in the message with other letters, according to some system. If the process is successful, no one but the intended recipient can understand the encrypted message. Cryptanalysis refers to attempts to undo the encryption, even if some details of the encryption are unknown (for example, if an encrypted message has been intercepted). The first step of cryptanalysis is often to build up a table of letter frequencies in the encrypted text.\n",
    "#Assume that the string letters is already defined as 'abcdefghijklmnopqrstuvwxyz'. Write a function called frequencies() that takes a string as its only parameter, and returns a list of integers, showing the number of times each character appears in the text. Your function may ignore any characters that are not in letters.\n",
    "#>>> frequencies('The quick red fox got bored and went home.')\n",
    "#[1, 1, 1, 3, 5, 1, 1, 2, 1, 0, 1, 0, 1, 2, 4, 0, 1, 2, 0, 2, 1, 0, 1, 1, 0, 0]\n",
    "#>>> frequencies('apple')\n",
    "\n",
    "#Ans-10)\n",
    "\n",
    "def frequencies(text):\n",
    "\n",
    "    letters = 'abcdefghijklmnopqrstuvwxyz'\n",
    "    \n",
    "    freq_list = [0] * len(letters)\n",
    "    \n",
    "    text = text.lower()\n",
    "    \n",
    "    for char in text:\n",
    "        if char in letters:\n",
    "            index = letters.index(char)\n",
    "            freq_list[index] += 1\n",
    "    \n",
    "    return freq_list\n",
    "\n",
    "\n",
    "\n",
    "print(frequencies('The boy forgot to write assignment.')) \n",
    "\n",
    "print(frequencies('apple'))  \n",
    "\n",
    "\n"
   ]
  },
  {
   "cell_type": "code",
   "execution_count": null,
   "id": "f534ae96-89d4-4312-9402-bae729ccdf70",
   "metadata": {},
   "outputs": [],
   "source": []
  },
  {
   "cell_type": "code",
   "execution_count": null,
   "id": "80774fb8-cea2-43d8-a181-882a4da63fe3",
   "metadata": {},
   "outputs": [],
   "source": []
  },
  {
   "cell_type": "code",
   "execution_count": null,
   "id": "5ee0a64f-a0b1-45d1-b543-627738cfc0c3",
   "metadata": {},
   "outputs": [],
   "source": []
  }
 ],
 "metadata": {
  "kernelspec": {
   "display_name": "Python 3 (ipykernel)",
   "language": "python",
   "name": "python3"
  },
  "language_info": {
   "codemirror_mode": {
    "name": "ipython",
    "version": 3
   },
   "file_extension": ".py",
   "mimetype": "text/x-python",
   "name": "python",
   "nbconvert_exporter": "python",
   "pygments_lexer": "ipython3",
   "version": "3.12.4"
  }
 },
 "nbformat": 4,
 "nbformat_minor": 5
}
